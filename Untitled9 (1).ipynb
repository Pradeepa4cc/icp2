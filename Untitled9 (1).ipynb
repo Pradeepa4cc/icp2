{
 "cells": [
  {
   "cell_type": "code",
   "execution_count": 6,
   "id": "c20ad937",
   "metadata": {},
   "outputs": [
    {
     "name": "stdout",
     "output_type": "stream",
     "text": [
      "Enter First Name : pradeep\n",
      "Enter Last Name : reddy\n",
      "User Full Name :  pradeep reddy\n",
      "Alternate String :  paeprdy\n"
     ]
    }
   ],
   "source": [
    "First_Name= input(\"Enter First Name : \")\n",
    "Last_Name= input(\"Enter Last Name : \")\n",
    "\n",
    "def Full_Name(First_name,Last_Name):\n",
    "    return First_Name +\" \"+Last_Name\n",
    "\n",
    "def string_alternative(Full_Name):\n",
    "    new_str1 = \"\"\n",
    "    for index in range(0,len(Full_Name),2):\n",
    "                       new_str1+=Full_Name[index]        \n",
    "    return new_str1               \n",
    "\n",
    "\n",
    "print(\"User Full Name : \",Full_Name(First_Name,Last_Name))\n",
    "\n",
    "print(\"Alternate String : \",string_alternative(Full_Name(First_Name,Last_Name)))"
   ]
  },
  {
   "cell_type": "code",
   "execution_count": 19,
   "id": "029c26bc",
   "metadata": {},
   "outputs": [],
   "source": [
    "input_file = open(\"input.txt\", \"r\")\n",
    "output_file = open(\"output.txt\", \"w\")\n",
    "\n",
    "content = {}\n",
    "\n",
    "\n",
    "for line in input_file:\n",
    "    output_file.write(line)\n",
    "    new_l = line.split()\n",
    "    for x in new_l:\n",
    "        if(content.get(x)==None):\n",
    "            content[x]=1\n",
    "        else:\n",
    "            content[x] = content[x] + 1\n",
    "            \n",
    "output_file.write(\" Word_Count : \")\n",
    "for key, value in content.items(): \n",
    "        output_file.write('%s:%s\\n' % (key, value))\n",
    "input_file.close()\n",
    "output_file.close()"
   ]
  },
  {
   "cell_type": "code",
   "execution_count": 14,
   "id": "2b43e485",
   "metadata": {},
   "outputs": [
    {
     "name": "stdout",
     "output_type": "stream",
     "text": [
      "Enter customer heights : 130 140 150 160\n",
      "show list :  [330.2, 355.6, 381.0, 406.4]\n"
     ]
    }
   ],
   "source": [
    "sampledata = input(\"Enter customer heights : \")\n",
    "\n",
    "def inchToCent(value):\n",
    "    return value*2.54\n",
    "\n",
    "Heights = sampledata.split()\n",
    "\n",
    "new_list = []\n",
    "\n",
    "for q in Heights:\n",
    "    value = int(q)\n",
    "    new_list.append(inchToCent(value))\n",
    "    \n",
    "print(\"show list : \",new_list)"
   ]
  },
  {
   "cell_type": "code",
   "execution_count": null,
   "id": "64207e93",
   "metadata": {},
   "outputs": [],
   "source": []
  }
 ],
 "metadata": {
  "kernelspec": {
   "display_name": "Python 3 (ipykernel)",
   "language": "python",
   "name": "python3"
  },
  "language_info": {
   "codemirror_mode": {
    "name": "ipython",
    "version": 3
   },
   "file_extension": ".py",
   "mimetype": "text/x-python",
   "name": "python",
   "nbconvert_exporter": "python",
   "pygments_lexer": "ipython3",
   "version": "3.9.12"
  }
 },
 "nbformat": 4,
 "nbformat_minor": 5
}
